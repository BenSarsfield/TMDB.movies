{
 "cells": [
  {
   "cell_type": "markdown",
   "id": "e0c37057",
   "metadata": {},
   "source": [
    "# Digital Futures - Project 3 "
   ]
  },
  {
   "cell_type": "markdown",
   "id": "fb3190be",
   "metadata": {},
   "source": [
    "## 1.1 Importing the data "
   ]
  },
  {
   "cell_type": "code",
   "execution_count": null,
   "id": "47ef04b7",
   "metadata": {},
   "outputs": [],
   "source": [
    "import numpy as np \n",
    "import seaborn as sns\n",
    "import matplotlib.pyplot as plt\n",
    "import pandas as pd\n",
    "import ast \n",
    "import datetime"
   ]
  },
  {
   "cell_type": "code",
   "execution_count": null,
   "id": "20ce9c33",
   "metadata": {
    "scrolled": true
   },
   "outputs": [],
   "source": [
    "movies = pd.read_csv('TMDB_movies.csv')\n",
    "movies.head(5)"
   ]
  },
  {
   "cell_type": "code",
   "execution_count": null,
   "id": "cdc5e0bf",
   "metadata": {},
   "outputs": [],
   "source": [
    "movies.dtypes"
   ]
  },
  {
   "cell_type": "markdown",
   "id": "358bbdde",
   "metadata": {},
   "source": [
    "Appending the dictionaries into lists..."
   ]
  },
  {
   "cell_type": "code",
   "execution_count": null,
   "id": "7cee7c4a",
   "metadata": {},
   "outputs": [],
   "source": [
    "# *1\n",
    "\n",
    "movies['genres'] = movies['genres'].apply(lambda x: ast.literal_eval(x))\n",
    "movies['genres'] = movies['genres'].apply(lambda x: [genre['name'] for genre in x])\n",
    "\n",
    "movies['keywords'] = movies['keywords'].apply(lambda x: ast.literal_eval(x))\n",
    "movies['keywords'] = movies['keywords'].apply(lambda x: [genre['name'] for genre in x])\n",
    "\n",
    "movies['production_companies'] = movies['production_companies'].apply(lambda x: ast.literal_eval(x))\n",
    "movies['production_companies'] = movies['production_companies'].apply(lambda x: [genre['name'] for genre in x])\n",
    "\n",
    "movies['production_countries'] = movies['production_countries'].apply(lambda x: ast.literal_eval(x))\n",
    "movies['production_countries'] = movies['production_countries'].apply(lambda x: [genre['name'] for genre in x])\n",
    "\n",
    "movies['spoken_languages'] = movies['spoken_languages'].apply(lambda x: ast.literal_eval(x))\n",
    "movies['spoken_languages'] = movies['spoken_languages'].apply(lambda x: [genre['name'] for genre in x])"
   ]
  },
  {
   "cell_type": "code",
   "execution_count": null,
   "id": "7583aa4b",
   "metadata": {},
   "outputs": [],
   "source": [
    "movies.head()"
   ]
  },
  {
   "cell_type": "markdown",
   "id": "9aef8e91",
   "metadata": {},
   "source": [
    "Converting the release_date data type to a datetime format:"
   ]
  },
  {
   "cell_type": "code",
   "execution_count": null,
   "id": "0daa814b",
   "metadata": {},
   "outputs": [],
   "source": [
    "movies['release_date'] = pd.to_datetime(movies['release_date'], format='%Y-%m-%d')"
   ]
  },
  {
   "cell_type": "code",
   "execution_count": null,
   "id": "27657c93",
   "metadata": {},
   "outputs": [],
   "source": [
    "movies.dtypes"
   ]
  },
  {
   "cell_type": "markdown",
   "id": "29f93138",
   "metadata": {},
   "source": [
    "Making a 'profit' column:"
   ]
  },
  {
   "cell_type": "code",
   "execution_count": null,
   "id": "8e0995ec",
   "metadata": {},
   "outputs": [],
   "source": [
    "movies['profit'] = movies['revenue'] - movies['budget']"
   ]
  },
  {
   "cell_type": "markdown",
   "id": "2465b5c0",
   "metadata": {},
   "source": [
    "## 1.2 Null Handling"
   ]
  },
  {
   "cell_type": "code",
   "execution_count": null,
   "id": "7f18c22b",
   "metadata": {},
   "outputs": [],
   "source": [
    "null_movies = movies.isnull() \n",
    "null_movies.sum() #total nulls = 3941"
   ]
  },
  {
   "cell_type": "markdown",
   "id": "e5f7c08c",
   "metadata": {},
   "source": [
    "There are a large number of nulls in the 'homepage' and 'tagline' columns, with just 3, 2 and 1 in the 'overview', 'runtime' and 'release_date' columns respectively. "
   ]
  },
  {
   "cell_type": "code",
   "execution_count": null,
   "id": "3f4ebb26",
   "metadata": {},
   "outputs": [],
   "source": [
    "movies.dropna(\n",
    "    axis = 0, \n",
    "    how = 'any', \n",
    "    subset = [ 'overview','release_date'], \n",
    "    inplace = True   \n",
    ")"
   ]
  },
  {
   "cell_type": "markdown",
   "id": "9a948719",
   "metadata": {},
   "source": [
    "Investigating the null values, those present in the 'overview' and 'release_date' columns appear to align in the same rows as the nulls in the 'runtime' column. It makes sense to remove these rows as they account for a small proportion of the total nulls."
   ]
  },
  {
   "cell_type": "code",
   "execution_count": null,
   "id": "48a14f7f",
   "metadata": {},
   "outputs": [],
   "source": [
    "def null_vals(dataframe):\n",
    "    null_vals = dataframe.isnull().sum() \n",
    "    total_cnt = len(dataframe) \n",
    "    null_vals = pd.DataFrame(null_vals,columns=['null'])  \n",
    "    null_vals['percent'] = round((null_vals['null']/total_cnt)*100,3) \n",
    "    \n",
    "    return null_vals.sort_values('percent', ascending=False)\n",
    "\n",
    "null_vals(movies)"
   ]
  },
  {
   "cell_type": "markdown",
   "id": "ebcdd81c",
   "metadata": {},
   "source": [
    "Now looking at the columns, ' homepage' and 'tagline'. "
   ]
  },
  {
   "cell_type": "markdown",
   "id": "74793e87",
   "metadata": {},
   "source": [
    "These columns have a combined null count of 3927 following the removal of the previously affected rows. "
   ]
  },
  {
   "cell_type": "markdown",
   "id": "9daf5668",
   "metadata": {},
   "source": [
    "As there are too many nulls to remove rows and no numerical distrubtion to infer from to predict values, removal of the columns is therefore the best option for this task. "
   ]
  },
  {
   "cell_type": "code",
   "execution_count": null,
   "id": "8b16285e",
   "metadata": {},
   "outputs": [],
   "source": [
    "movies.drop(columns = ['homepage', 'tagline'], inplace = True)"
   ]
  },
  {
   "cell_type": "code",
   "execution_count": null,
   "id": "a43fafcc",
   "metadata": {},
   "outputs": [],
   "source": [
    "movies.head()"
   ]
  },
  {
   "cell_type": "markdown",
   "id": "972936ff",
   "metadata": {},
   "source": [
    "## 1.3 Interesting Insights"
   ]
  },
  {
   "cell_type": "markdown",
   "id": "811cc57d",
   "metadata": {},
   "source": [
    "### 1.3.1 The correlation between vote average and decade of release"
   ]
  },
  {
   "cell_type": "code",
   "execution_count": null,
   "id": "3cf70629",
   "metadata": {},
   "outputs": [],
   "source": [
    "pd.set_option('display.max_rows', 20)"
   ]
  },
  {
   "cell_type": "markdown",
   "id": "dadf3f5c",
   "metadata": {},
   "source": [
    "Creating a 'year' column "
   ]
  },
  {
   "cell_type": "code",
   "execution_count": null,
   "id": "9abea0b4",
   "metadata": {},
   "outputs": [],
   "source": [
    "movies['year'] = pd.DatetimeIndex(movies['release_date']).year\n",
    "movies.head()"
   ]
  },
  {
   "cell_type": "markdown",
   "id": "09294fc7",
   "metadata": {},
   "source": [
    "Making a function that creates a new column 'decade'"
   ]
  },
  {
   "cell_type": "code",
   "execution_count": null,
   "id": "4d2944bc",
   "metadata": {},
   "outputs": [],
   "source": [
    "# *2\n",
    "\n",
    "def what_decade(year):\n",
    "    if year < 1920:\n",
    "        return '1910s'\n",
    "    elif year < 1930:\n",
    "        return '1920s'\n",
    "    elif year < 1940:\n",
    "        return '1930s'\n",
    "    elif year < 1950:\n",
    "        return '1940s'\n",
    "    elif year < 1960:\n",
    "        return '1950s'\n",
    "    elif year < 1970:\n",
    "        return '1960s'\n",
    "    elif year < 1980:\n",
    "        return '1970s'\n",
    "    elif year < 1990:\n",
    "        return '1980s'\n",
    "    elif year < 2000:\n",
    "        return '1990s'\n",
    "    elif year < 2010:\n",
    "        return '2000s'\n",
    "    else:\n",
    "        return '2010s'\n",
    "    \n",
    "    \n",
    "movies['decade'] = movies['year'].apply(what_decade)\n",
    "\n",
    "\n",
    "movies[['release_date', 'decade']] \n",
    "\n",
    "movies.head()"
   ]
  },
  {
   "cell_type": "markdown",
   "id": "1c79be58",
   "metadata": {},
   "source": [
    "Grouping by the deacade and finding the average vote score..."
   ]
  },
  {
   "cell_type": "code",
   "execution_count": null,
   "id": "d360fcff",
   "metadata": {},
   "outputs": [],
   "source": [
    "year_stats = movies.groupby('decade')[['vote_average']].mean().reset_index()\n",
    "\n",
    "year_stats"
   ]
  },
  {
   "cell_type": "markdown",
   "id": "9d5168e9",
   "metadata": {},
   "source": [
    "Producing a bar plot of decade against 'vote_average':"
   ]
  },
  {
   "cell_type": "code",
   "execution_count": null,
   "id": "c4bf297f",
   "metadata": {},
   "outputs": [],
   "source": [
    "plt.figure(figsize=(14,6))\n",
    "\n",
    "sns.barplot( data = year_stats,\n",
    "             x = 'decade',\n",
    "             y = 'vote_average',\n",
    "             palette = 'winter' \n",
    "           )\n",
    "\n",
    "plt.xlabel('Decade')\n",
    "plt.ylabel('Average Rating')\n",
    "plt.title('Average Rating by Decade')\n",
    "\n",
    "plt.show()\n",
    "\n"
   ]
  },
  {
   "cell_type": "markdown",
   "id": "29bfc33c",
   "metadata": {},
   "source": [
    "There is a clear negative trend as time goes on with the average rating steadily decreasing over the decades. Ranging from 7.4 in the 1910s to 5.85 in the 2010s."
   ]
  },
  {
   "cell_type": "markdown",
   "id": "bf1eb9f8",
   "metadata": {},
   "source": [
    "I decided to dive deeper into this by looking at the number of votes by decade to see if this potentially had an affect on the average vote."
   ]
  },
  {
   "cell_type": "code",
   "execution_count": null,
   "id": "4c433f0c",
   "metadata": {},
   "outputs": [],
   "source": [
    "vote_stats = movies.groupby('decade')[['vote_count']].mean().reset_index()\n",
    "vote_stats"
   ]
  },
  {
   "cell_type": "markdown",
   "id": "8914fe9d",
   "metadata": {},
   "source": [
    "Plotting 'the number of votes' against decade:"
   ]
  },
  {
   "cell_type": "code",
   "execution_count": null,
   "id": "9da615f6",
   "metadata": {},
   "outputs": [],
   "source": [
    "plt.figure(figsize=(14,6))\n",
    "\n",
    "sns.barplot( data = vote_stats,\n",
    "             x = 'decade',\n",
    "             y = 'vote_count',\n",
    "             palette = 'winter' \n",
    "           )\n",
    "\n",
    "plt.xlabel('Decade')\n",
    "plt.ylabel('Number of Votes')\n",
    "plt.title('Average Number of Votes by Decade')\n",
    "\n",
    "plt.show()\n"
   ]
  },
  {
   "cell_type": "markdown",
   "id": "cc6d0c05",
   "metadata": {},
   "source": [
    "There is a clear upward trend as time goes on in the number of votes. This plot almost mirrors the previous graph as the decades with the higher average rating tend to have fewer votes compared to those that appeared to have a lower average rating. "
   ]
  },
  {
   "cell_type": "markdown",
   "id": "fb13ef1a",
   "metadata": {},
   "source": [
    "This may indicate that the frequency of votes may have a negative affect on the movie ratings."
   ]
  },
  {
   "cell_type": "markdown",
   "id": "cb7ec23a",
   "metadata": {},
   "source": [
    "### 1.3.2 The correlation between budget and revenue"
   ]
  },
  {
   "cell_type": "markdown",
   "id": "75aa9588",
   "metadata": {},
   "source": [
    "It makes sense that budget and revenue will be correlated, however, interesting inference can be made when grouping these variables by different columns."
   ]
  },
  {
   "cell_type": "markdown",
   "id": "d374619d",
   "metadata": {},
   "source": [
    "Investigating the data, I noticed the films that hadn't been released had a budget and revenue of zero. "
   ]
  },
  {
   "cell_type": "markdown",
   "id": "054495c5",
   "metadata": {},
   "source": [
    "Creating a new dataframe, 'movies_released', soley detailing the records of released movies:"
   ]
  },
  {
   "cell_type": "code",
   "execution_count": null,
   "id": "a050c873",
   "metadata": {},
   "outputs": [],
   "source": [
    "movies_released = movies[movies['status']=='Released']\n",
    "movies_released.status.unique()"
   ]
  },
  {
   "cell_type": "markdown",
   "id": "e34bf196",
   "metadata": {},
   "source": [
    "I found there remained 4 rows with a revenue of 0 and 3 with a budget of 0.  "
   ]
  },
  {
   "cell_type": "markdown",
   "id": "45515aef",
   "metadata": {},
   "source": [
    "As there was some overlap with the nulls in either column I decided to drop these rows as they might affect future values."
   ]
  },
  {
   "cell_type": "code",
   "execution_count": null,
   "id": "07d609c6",
   "metadata": {},
   "outputs": [],
   "source": [
    "movies_released.replace(0 , np.nan, inplace = True) ## converting the 0's to nulls"
   ]
  },
  {
   "cell_type": "code",
   "execution_count": null,
   "id": "5cd7d56e",
   "metadata": {},
   "outputs": [],
   "source": [
    "## dropping the new nulls\n",
    "\n",
    "movies_released.dropna( \n",
    "    axis = 0, \n",
    "    how = 'any', \n",
    "    subset = [ 'budget', 'revenue'], \n",
    "    inplace = True \n",
    ")\n",
    "\n",
    "movies_released[['status', 'budget','revenue']]\n"
   ]
  },
  {
   "cell_type": "markdown",
   "id": "a0474bae",
   "metadata": {},
   "source": [
    "Firstly taking a look at the correlation when simply taken from the released movies dataframe."
   ]
  },
  {
   "cell_type": "code",
   "execution_count": null,
   "id": "a3a949cb",
   "metadata": {},
   "outputs": [],
   "source": [
    "budget_revenue = movies_released[['revenue','budget']]\n",
    "budget_revenue"
   ]
  },
  {
   "cell_type": "markdown",
   "id": "d05785fa",
   "metadata": {},
   "source": [
    "Plotting a correlation heatmap:"
   ]
  },
  {
   "cell_type": "code",
   "execution_count": null,
   "id": "8d05a832",
   "metadata": {},
   "outputs": [],
   "source": [
    "plt.figure(figsize = (5,5))\n",
    "\n",
    "sns.heatmap(budget_revenue.corr(),\n",
    "            annot = True)\n",
    "\n",
    "plt.title('The Correlation Between Revenue and Budget')\n",
    "plt.show()"
   ]
  },
  {
   "cell_type": "markdown",
   "id": "4d1f775d",
   "metadata": {},
   "source": [
    "There is a strong positive correlation between the 2 variables. This value differs, however, when it is grouped by other variables "
   ]
  },
  {
   "cell_type": "markdown",
   "id": "6c88cff6",
   "metadata": {},
   "source": [
    "Firstly, we'll take a look at runtime..."
   ]
  },
  {
   "cell_type": "code",
   "execution_count": null,
   "id": "af0ca92e",
   "metadata": {},
   "outputs": [],
   "source": [
    "length = movies.groupby('runtime')[['budget', 'revenue']].mean()\n",
    "length.head()"
   ]
  },
  {
   "cell_type": "code",
   "execution_count": null,
   "id": "c23b3fa5",
   "metadata": {},
   "outputs": [],
   "source": [
    "plt.figure(figsize = (5,5))\n",
    "\n",
    "sns.heatmap(length.corr(),\n",
    "            annot = True,\n",
    "           )\n",
    "\n",
    "plt.title('Grouped by Runtime')\n",
    "plt.show()"
   ]
  },
  {
   "cell_type": "markdown",
   "id": "5c8043fa",
   "metadata": {},
   "source": [
    "There is a slight increase in the correlation between budget and revenue when the data is grouped by the runtime."
   ]
  },
  {
   "cell_type": "code",
   "execution_count": null,
   "id": "e7817f5b",
   "metadata": {},
   "outputs": [],
   "source": [
    "language = movies_released.groupby('original_language')[['budget', 'revenue']].\\\n",
    "        mean().sort_values(by = 'revenue', ascending = False)\n",
    "language"
   ]
  },
  {
   "cell_type": "code",
   "execution_count": null,
   "id": "5274b1fd",
   "metadata": {},
   "outputs": [],
   "source": [
    "sns.heatmap(language.corr(),\n",
    "            annot = True,\n",
    "           )\n",
    "\n",
    "plt.title('Grouped by language')\n",
    "plt.show()"
   ]
  },
  {
   "cell_type": "markdown",
   "id": "eadf510a",
   "metadata": {},
   "source": [
    "Again, there is an increase in the correlation between budget and revenue when grouped by the original language. "
   ]
  },
  {
   "cell_type": "markdown",
   "id": "23403f10",
   "metadata": {},
   "source": [
    "I found this insight interesting as it showed that other variables had a direct impact on the correlation between revenue and budget, particularly the original language of the movie where, when grouped by this variable, the correlation coefficient tends further to one, indicating a very stronger positive correlation between the two variables."
   ]
  },
  {
   "cell_type": "markdown",
   "id": "3361aaf8",
   "metadata": {},
   "source": [
    "## 1.4. A Deeper Dive Into Individual Movies"
   ]
  },
  {
   "cell_type": "markdown",
   "id": "40525310",
   "metadata": {},
   "source": [
    "### 1.4.1 Higher Ground"
   ]
  },
  {
   "cell_type": "markdown",
   "id": "63c98a50",
   "metadata": {},
   "source": [
    "I thought I would take a closer look at the unreleased movies "
   ]
  },
  {
   "cell_type": "code",
   "execution_count": null,
   "id": "c224f04e",
   "metadata": {},
   "outputs": [],
   "source": [
    "movies_unreleased = movies[movies['status'] != 'Released']\n",
    "movies_unreleased.status.unique()\n",
    "movies_unreleased[['budget', 'release_date', 'original_title', 'revenue', \n",
    "                       'popularity', 'vote_average', 'profit', 'status']]"
   ]
  },
  {
   "cell_type": "markdown",
   "id": "e6b9be73",
   "metadata": {},
   "source": [
    "The movie 'Higher Ground' stood out to me as a noteworthy film as it was the only film unreleased ('post-production' or 'rumored') that had revenue data."
   ]
  },
  {
   "cell_type": "code",
   "execution_count": null,
   "id": "7460a5d5",
   "metadata": {},
   "outputs": [],
   "source": [
    "Higher_Ground = movies_unreleased[movies_unreleased['title'] == 'Higher Ground']\n",
    "Higher_Ground"
   ]
  },
  {
   "cell_type": "markdown",
   "id": "9225a0ab",
   "metadata": {},
   "source": [
    "However, when comparing the revenue to the budget, it appeared to have a negative profit of -1,158,267"
   ]
  },
  {
   "cell_type": "markdown",
   "id": "8e27b0c8",
   "metadata": {},
   "source": [
    "The average revenue over the entire dataset was 10 times larger than that of 'Higher Ground' with the mean 'vote average' being close to one rating larger than that of the movie."
   ]
  },
  {
   "cell_type": "code",
   "execution_count": null,
   "id": "d32a67c4",
   "metadata": {},
   "outputs": [],
   "source": [
    "movies_released[['budget', 'revenue', 'vote_average', 'popularity','runtime','profit']].describe()"
   ]
  },
  {
   "cell_type": "markdown",
   "id": "c943595c",
   "metadata": {},
   "source": [
    "Comparing the film to other unreleased movies... "
   ]
  },
  {
   "cell_type": "code",
   "execution_count": null,
   "id": "791fe609",
   "metadata": {},
   "outputs": [],
   "source": [
    "Not_Higher_Ground = movies_unreleased[movies_unreleased['title'] != 'Higher Ground']\n",
    "Not_Higher_Ground[['budget', 'revenue', 'vote_average', 'popularity', 'runtime','profit']].describe()"
   ]
  },
  {
   "cell_type": "markdown",
   "id": "b82a7ef1",
   "metadata": {},
   "source": [
    "It sat just below the 'vote_average' mean and had a runtime close to the maximum."
   ]
  },
  {
   "cell_type": "markdown",
   "id": "e2b13b8e",
   "metadata": {},
   "source": [
    "Another intersting point was it's popularity rating was marginally higher than that of next most popular 'unreleased' movie. "
   ]
  },
  {
   "cell_type": "markdown",
   "id": "6ebd5222",
   "metadata": {},
   "source": [
    "Though in contrast to the released movies dataset it's popularity rating was far lower than the average."
   ]
  },
  {
   "cell_type": "markdown",
   "id": "dba493e2",
   "metadata": {},
   "source": [
    "In conclusion, 'Higher Ground', in contrast to the rest of the movies in the original data set is an unsuccessful movie. It had an overall negative profit while maintaining a reasonably low popularity and average vote rating. However, in contrast to the other unreleased movies it was marginally more popular while having a profit greater than the mean, though this may be due to just two other movies in the smaller dataframe having profit data."
   ]
  },
  {
   "cell_type": "markdown",
   "id": "978c10f0",
   "metadata": {},
   "source": [
    "### 1.4.1 Pirates of the Caribbean: On Stranger Tides"
   ]
  },
  {
   "cell_type": "markdown",
   "id": "963acef8",
   "metadata": {},
   "source": [
    "Another interesting film was that with the largest budget, 'Pirates of the Caribbean: On Stranger Tides' "
   ]
  },
  {
   "cell_type": "code",
   "execution_count": null,
   "id": "64491034",
   "metadata": {},
   "outputs": [],
   "source": [
    "movies[['title', 'budget']].sort_values(by = 'budget', ascending = False)"
   ]
  },
  {
   "cell_type": "markdown",
   "id": "6dc1b196",
   "metadata": {},
   "source": [
    "Notably, it had a budget 80 million greater than the second most expensive film, another film in the Pirates of the Caribbean franchise, 'At World's End'."
   ]
  },
  {
   "cell_type": "code",
   "execution_count": null,
   "id": "652e36dd",
   "metadata": {},
   "outputs": [],
   "source": [
    "Stranger_tides = movies[movies['title'] == 'Pirates of the Caribbean: On Stranger Tides']"
   ]
  },
  {
   "cell_type": "markdown",
   "id": "d21382e4",
   "metadata": {},
   "source": [
    "Looking at some of the key columns:"
   ]
  },
  {
   "cell_type": "code",
   "execution_count": null,
   "id": "d98fd149",
   "metadata": {},
   "outputs": [],
   "source": [
    "Stranger_tides[['budget', 'revenue', 'vote_average', 'popularity','profit','vote_count']]"
   ]
  },
  {
   "cell_type": "markdown",
   "id": "f81c5e2d",
   "metadata": {},
   "source": [
    "Notable points can be made for the large disparity between budget and revenue, with the revenue being around 660 million greater than the budget despite the seemingly low 'vote_average'."
   ]
  },
  {
   "cell_type": "markdown",
   "id": "af2aee0e",
   "metadata": {},
   "source": [
    "How does the film stand against the general dataset measures?"
   ]
  },
  {
   "cell_type": "code",
   "execution_count": null,
   "id": "e8a4a81a",
   "metadata": {},
   "outputs": [],
   "source": [
    "Not_stranger_tides = movies_released[movies_released['title'] != 'Pirates of the Caribbean: On Stranger Tides']"
   ]
  },
  {
   "cell_type": "code",
   "execution_count": null,
   "id": "22ea16ea",
   "metadata": {},
   "outputs": [],
   "source": [
    "Not_stranger_tides[['budget', 'revenue', 'vote_average', 'popularity','profit', 'vote_count']].describe()"
   ]
  },
  {
   "cell_type": "markdown",
   "id": "787ebf39",
   "metadata": {},
   "source": [
    "The popularity of the film is far greater than the mean of the other released movies and despite the potentially low rating, it appears to be slighly higher rated than the general average. "
   ]
  },
  {
   "cell_type": "markdown",
   "id": "80bcf054",
   "metadata": {},
   "source": [
    "Furthermore, the films profit was far greater than the average, placing the movie in the top 25%"
   ]
  },
  {
   "cell_type": "markdown",
   "id": "76e62a75",
   "metadata": {},
   "source": [
    "In conclusion, 'Pirates of the Caribbean: On Stranger Tides' was a highly successful movie if based primarily on popularity and profit. The films average rating was lower than potentially expected, however, this may potentially in part be due to the, previously mentioned, vote count being quite a bit greater for this movie than the mean for the other released movies."
   ]
  },
  {
   "cell_type": "markdown",
   "id": "788baff2",
   "metadata": {},
   "source": [
    "## 2. References "
   ]
  },
  {
   "cell_type": "markdown",
   "id": "6bc86a67",
   "metadata": {},
   "source": [
    "*1 - Georgia Dias - helped me convert the tables dictionaries into a list format"
   ]
  },
  {
   "cell_type": "markdown",
   "id": "cb6b9762",
   "metadata": {},
   "source": [
    "*2 - Rowan Jarvis - helped with the troubleshooting when it came to writing my function"
   ]
  }
 ],
 "metadata": {
  "kernelspec": {
   "display_name": "Python 3 (ipykernel)",
   "language": "python",
   "name": "python3"
  },
  "language_info": {
   "codemirror_mode": {
    "name": "ipython",
    "version": 3
   },
   "file_extension": ".py",
   "mimetype": "text/x-python",
   "name": "python",
   "nbconvert_exporter": "python",
   "pygments_lexer": "ipython3",
   "version": "3.11.5"
  }
 },
 "nbformat": 4,
 "nbformat_minor": 5
}
